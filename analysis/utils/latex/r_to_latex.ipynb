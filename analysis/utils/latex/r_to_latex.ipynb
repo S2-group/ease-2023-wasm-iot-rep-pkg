{
 "cells": [
  {
   "cell_type": "code",
   "execution_count": 29,
   "metadata": {
    "collapsed": true
   },
   "outputs": [],
   "source": [
    "import os\n",
    "\n",
    "import pandas as pd\n",
    "pd.set_option('display.float_format', str)\n"
   ]
  },
  {
   "cell_type": "code",
   "execution_count": 30,
   "outputs": [],
   "source": [
    "def lul(file_name_in):\n",
    "    df = pd.read_csv(file_name_in).astype(float)\n",
    "    file_name_in = file_name_in.split(\"/\")[-1]\n",
    "    file_name = file_name_in.split(\".\")[0] + \".tex\"\n",
    "\n",
    "    for c in df.columns:\n",
    "        c_new = c.replace(\"_\", \" \").title()\n",
    "        df.rename({c: \"\\\\bfseries \"+c_new}, axis=1, inplace=True)\n",
    "\n",
    "    df.insert(0, \"\", list(df.columns), True)\n",
    "\n",
    "\n",
    "    df.to_latex(file_name, column_format=\">{\\\\bfseries}c|\" + (len(df.columns)-1) * \"c\", multicolumn_format=\"c\", caption=\"TODO\", label=\"TODO\", float_format=\"%.3f\", position=\"h\", index=False, escape=False)\n",
    "    if \"hyp2\" not in file_name:\n",
    "        os.system(f\"./limit_width.sh {file_name}\")\n",
    "    #os.system(f\"./add_comment.sh {file_name}\")"
   ],
   "metadata": {
    "collapsed": false
   }
  },
  {
   "cell_type": "code",
   "execution_count": 31,
   "outputs": [
    {
     "name": "stderr",
     "output_type": "stream",
     "text": [
      "/tmp/ipykernel_212821/4062287807.py:13: FutureWarning: In future versions `DataFrame.to_latex` is expected to utilise the base implementation of `Styler.to_latex` for formatting and rendering. The arguments signature may therefore change. It is recommended instead to use `DataFrame.style.to_latex` which also contains additional functionality.\n",
      "  df.to_latex(file_name, column_format=\">{\\\\bfseries}c|\" + (len(df.columns)-1) * \"c\", multicolumn_format=\"c\", caption=\"TODO\", label=\"TODO\", float_format=\"%.3f\", position=\"h\", index=False, escape=False)\n",
      "/tmp/ipykernel_212821/4062287807.py:13: FutureWarning: In future versions `DataFrame.to_latex` is expected to utilise the base implementation of `Styler.to_latex` for formatting and rendering. The arguments signature may therefore change. It is recommended instead to use `DataFrame.style.to_latex` which also contains additional functionality.\n",
      "  df.to_latex(file_name, column_format=\">{\\\\bfseries}c|\" + (len(df.columns)-1) * \"c\", multicolumn_format=\"c\", caption=\"TODO\", label=\"TODO\", float_format=\"%.3f\", position=\"h\", index=False, escape=False)\n",
      "/tmp/ipykernel_212821/4062287807.py:13: FutureWarning: In future versions `DataFrame.to_latex` is expected to utilise the base implementation of `Styler.to_latex` for formatting and rendering. The arguments signature may therefore change. It is recommended instead to use `DataFrame.style.to_latex` which also contains additional functionality.\n",
      "  df.to_latex(file_name, column_format=\">{\\\\bfseries}c|\" + (len(df.columns)-1) * \"c\", multicolumn_format=\"c\", caption=\"TODO\", label=\"TODO\", float_format=\"%.3f\", position=\"h\", index=False, escape=False)\n",
      "/tmp/ipykernel_212821/4062287807.py:13: FutureWarning: In future versions `DataFrame.to_latex` is expected to utilise the base implementation of `Styler.to_latex` for formatting and rendering. The arguments signature may therefore change. It is recommended instead to use `DataFrame.style.to_latex` which also contains additional functionality.\n",
      "  df.to_latex(file_name, column_format=\">{\\\\bfseries}c|\" + (len(df.columns)-1) * \"c\", multicolumn_format=\"c\", caption=\"TODO\", label=\"TODO\", float_format=\"%.3f\", position=\"h\", index=False, escape=False)\n",
      "/tmp/ipykernel_212821/4062287807.py:13: FutureWarning: In future versions `DataFrame.to_latex` is expected to utilise the base implementation of `Styler.to_latex` for formatting and rendering. The arguments signature may therefore change. It is recommended instead to use `DataFrame.style.to_latex` which also contains additional functionality.\n",
      "  df.to_latex(file_name, column_format=\">{\\\\bfseries}c|\" + (len(df.columns)-1) * \"c\", multicolumn_format=\"c\", caption=\"TODO\", label=\"TODO\", float_format=\"%.3f\", position=\"h\", index=False, escape=False)\n",
      "/tmp/ipykernel_212821/4062287807.py:13: FutureWarning: In future versions `DataFrame.to_latex` is expected to utilise the base implementation of `Styler.to_latex` for formatting and rendering. The arguments signature may therefore change. It is recommended instead to use `DataFrame.style.to_latex` which also contains additional functionality.\n",
      "  df.to_latex(file_name, column_format=\">{\\\\bfseries}c|\" + (len(df.columns)-1) * \"c\", multicolumn_format=\"c\", caption=\"TODO\", label=\"TODO\", float_format=\"%.3f\", position=\"h\", index=False, escape=False)\n",
      "/tmp/ipykernel_212821/4062287807.py:13: FutureWarning: In future versions `DataFrame.to_latex` is expected to utilise the base implementation of `Styler.to_latex` for formatting and rendering. The arguments signature may therefore change. It is recommended instead to use `DataFrame.style.to_latex` which also contains additional functionality.\n",
      "  df.to_latex(file_name, column_format=\">{\\\\bfseries}c|\" + (len(df.columns)-1) * \"c\", multicolumn_format=\"c\", caption=\"TODO\", label=\"TODO\", float_format=\"%.3f\", position=\"h\", index=False, escape=False)\n",
      "/tmp/ipykernel_212821/4062287807.py:13: FutureWarning: In future versions `DataFrame.to_latex` is expected to utilise the base implementation of `Styler.to_latex` for formatting and rendering. The arguments signature may therefore change. It is recommended instead to use `DataFrame.style.to_latex` which also contains additional functionality.\n",
      "  df.to_latex(file_name, column_format=\">{\\\\bfseries}c|\" + (len(df.columns)-1) * \"c\", multicolumn_format=\"c\", caption=\"TODO\", label=\"TODO\", float_format=\"%.3f\", position=\"h\", index=False, escape=False)\n",
      "/tmp/ipykernel_212821/4062287807.py:13: FutureWarning: In future versions `DataFrame.to_latex` is expected to utilise the base implementation of `Styler.to_latex` for formatting and rendering. The arguments signature may therefore change. It is recommended instead to use `DataFrame.style.to_latex` which also contains additional functionality.\n",
      "  df.to_latex(file_name, column_format=\">{\\\\bfseries}c|\" + (len(df.columns)-1) * \"c\", multicolumn_format=\"c\", caption=\"TODO\", label=\"TODO\", float_format=\"%.3f\", position=\"h\", index=False, escape=False)\n"
     ]
    }
   ],
   "source": [
    "path = \".\"\n",
    "for filename in os.listdir(path):\n",
    "    f = os.path.join(path, filename)\n",
    "    if os.path.isfile(f) and \".csv\" in f:\n",
    "        lul(f)"
   ],
   "metadata": {
    "collapsed": false
   }
  },
  {
   "cell_type": "code",
   "execution_count": 32,
   "outputs": [
    {
     "data": {
      "text/plain": "  PLACEHOLDER    C  Rust   Go  JavaScript\n0           C  0.0   1.0 -1.0        -1.0\n1        Rust -1.0   0.0 -1.0        -1.0\n2          Go  1.0   1.0  0.0        -1.0\n3  JavaScript  1.0   1.0  1.0         0.0",
      "text/html": "<div>\n<style scoped>\n    .dataframe tbody tr th:only-of-type {\n        vertical-align: middle;\n    }\n\n    .dataframe tbody tr th {\n        vertical-align: top;\n    }\n\n    .dataframe thead th {\n        text-align: right;\n    }\n</style>\n<table border=\"1\" class=\"dataframe\">\n  <thead>\n    <tr style=\"text-align: right;\">\n      <th></th>\n      <th>PLACEHOLDER</th>\n      <th>C</th>\n      <th>Rust</th>\n      <th>Go</th>\n      <th>JavaScript</th>\n    </tr>\n  </thead>\n  <tbody>\n    <tr>\n      <th>0</th>\n      <td>C</td>\n      <td>0.0</td>\n      <td>1.0</td>\n      <td>-1.0</td>\n      <td>-1.0</td>\n    </tr>\n    <tr>\n      <th>1</th>\n      <td>Rust</td>\n      <td>-1.0</td>\n      <td>0.0</td>\n      <td>-1.0</td>\n      <td>-1.0</td>\n    </tr>\n    <tr>\n      <th>2</th>\n      <td>Go</td>\n      <td>1.0</td>\n      <td>1.0</td>\n      <td>0.0</td>\n      <td>-1.0</td>\n    </tr>\n    <tr>\n      <th>3</th>\n      <td>JavaScript</td>\n      <td>1.0</td>\n      <td>1.0</td>\n      <td>1.0</td>\n      <td>0.0</td>\n    </tr>\n  </tbody>\n</table>\n</div>"
     },
     "execution_count": 32,
     "metadata": {},
     "output_type": "execute_result"
    }
   ],
   "source": [
    "df = pd.read_csv(\"/home/linus/Dokumente/Studium/Master/Amsterdam/Year_2/01_GreenLab/green-lab/analysis/fuck/hyp1_energy_usage.csv\").astype(float)\n",
    "\n",
    "df.insert(0, \"PLACEHOLDER\", list(df.columns), True)\n",
    "df"
   ],
   "metadata": {
    "collapsed": false
   }
  }
 ],
 "metadata": {
  "kernelspec": {
   "display_name": "Python 3",
   "language": "python",
   "name": "python3"
  },
  "language_info": {
   "codemirror_mode": {
    "name": "ipython",
    "version": 2
   },
   "file_extension": ".py",
   "mimetype": "text/x-python",
   "name": "python",
   "nbconvert_exporter": "python",
   "pygments_lexer": "ipython2",
   "version": "2.7.6"
  }
 },
 "nbformat": 4,
 "nbformat_minor": 0
}
