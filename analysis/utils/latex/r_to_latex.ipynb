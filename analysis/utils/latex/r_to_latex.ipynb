{
 "cells": [
  {
   "cell_type": "code",
   "execution_count": null,
   "metadata": {
    "collapsed": true
   },
   "outputs": [],
   "source": [
    "import os\n",
    "\n",
    "import pandas as pd\n",
    "pd.set_option('display.float_format', str)\n"
   ]
  },
  {
   "cell_type": "code",
   "execution_count": null,
   "outputs": [],
   "source": [
    "def create_latex_table(file_name_in):\n",
    "    df = pd.read_csv(file_name_in).astype(float)\n",
    "    file_name_in = file_name_in.split(\"/\")[-1]\n",
    "    file_name = file_name_in.split(\".\")[0] + \".tex\"\n",
    "\n",
    "    for c in df.columns:\n",
    "        c_new = c.replace(\"_\", \" \").title()\n",
    "        df.rename({c: \"\\\\bfseries \"+c_new}, axis=1, inplace=True)\n",
    "\n",
    "    df.insert(0, \"\", list(df.columns), True)\n",
    "\n",
    "\n",
    "    df.to_latex(file_name, column_format=\">{\\\\bfseries}c|\" + (len(df.columns)-1) * \"c\", multicolumn_format=\"c\", caption=\"TODO\", label=\"TODO\", float_format=\"%.3f\", position=\"h\", index=False, escape=False)\n",
    "    if \"hyp2\" not in file_name:\n",
    "        os.system(f\"./limit_width.sh {file_name}\")\n",
    "    #os.system(f\"./add_comment.sh {file_name}\")"
   ],
   "metadata": {
    "collapsed": false
   }
  },
  {
   "cell_type": "code",
   "execution_count": null,
   "outputs": [],
   "source": [
    "path = \".\"\n",
    "for filename in os.listdir(path):\n",
    "    f = os.path.join(path, filename)\n",
    "    if os.path.isfile(f) and \".csv\" in f:\n",
    "        create_latex_table(f)"
   ],
   "metadata": {
    "collapsed": false
   }
  },
  {
   "cell_type": "code",
   "execution_count": null,
   "outputs": [],
   "source": [
    "# requires file to be in cwd!\n",
    "df = pd.read_csv(\"hyp1_energy_usage.csv\").astype(float)\n",
    "\n",
    "df.insert(0, \"PLACEHOLDER\", list(df.columns), True)\n",
    "df"
   ],
   "metadata": {
    "collapsed": false
   }
  }
 ],
 "metadata": {
  "kernelspec": {
   "display_name": "Python 3",
   "language": "python",
   "name": "python3"
  },
  "language_info": {
   "codemirror_mode": {
    "name": "ipython",
    "version": 2
   },
   "file_extension": ".py",
   "mimetype": "text/x-python",
   "name": "python",
   "nbconvert_exporter": "python",
   "pygments_lexer": "ipython2",
   "version": "2.7.6"
  }
 },
 "nbformat": 4,
 "nbformat_minor": 0
}
