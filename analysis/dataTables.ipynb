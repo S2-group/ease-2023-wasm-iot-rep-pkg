{
 "cells": [
  {
   "cell_type": "code",
   "execution_count": null,
   "metadata": {
    "collapsed": true
   },
   "outputs": [],
   "source": [
    "import os\n",
    "\n",
    "import pandas as pd\n",
    "pd.set_option('display.float_format', str)\n"
   ]
  },
  {
   "cell_type": "code",
   "execution_count": null,
   "outputs": [],
   "source": [
    "df = pd.read_csv(\"combined_final.csv\")\n",
    "df.rename(columns={\"language\": \"Language\", \"runtime\": \"Runtime\", \"energy_usage\": \"Energy Usage\", \"execution_time\": \"Execution Time\", \"memory_usage\": \"Memory Usage\", \"cpu_usage\": \"CPU Usage\"}, inplace=True)\n",
    "df_no_id = df.drop(labels=\"id\", axis=1)\n",
    "df_no_id['Execution Time'] /= 1000\n",
    "df_no_id[\"Runtime\"] = df_no_id[\"Runtime\"].apply(lambda x : x.capitalize())\n",
    "df_no_id[\"Language\"] = df_no_id[\"Language\"].apply(lambda x: \"JavaScript\" if x == \"javascript\" else x.capitalize())\n",
    "df_no_id"
   ],
   "metadata": {
    "collapsed": false
   }
  },
  {
   "cell_type": "code",
   "execution_count": null,
   "outputs": [],
   "source": [
    "# RQ 1: only runtime wasmer and then 3 languages\n",
    "def make_table(df : pd.DataFrame, runtime : str) -> pd.DataFrame:\n",
    "    df_c = df[(df[\"Runtime\"] == runtime) & (df_no_id[\"Language\"] == \"C\")].describe()\n",
    "    df_go = df[(df[\"Runtime\"] == runtime) & (df_no_id[\"Language\"] == \"Go\")].describe()\n",
    "    df_rust = df[(df[\"Runtime\"] == runtime) & (df_no_id[\"Language\"] == \"Rust\")].describe()\n",
    "    df_js = df[(df[\"Runtime\"] == runtime) & (df_no_id[\"Language\"] == \"JavaScript\")].describe()\n",
    "\n",
    "    a = df_c.add_prefix(\"C_\")\n",
    "    b = df_rust.add_prefix(\"Rust_\")\n",
    "    c = df_go.add_prefix(\"Go_\")\n",
    "    d = df_js.add_prefix(\"JavaScript_\")\n",
    "    e = pd.concat([a,b,c,d], axis=1)\n",
    "    e.columns = pd.MultiIndex.from_tuples([tuple(s.split(\"_\")) for s in e.columns])\n",
    "\n",
    "    return d"
   ],
   "metadata": {
    "collapsed": false
   }
  },
  {
   "cell_type": "code",
   "execution_count": null,
   "outputs": [],
   "source": [
    "def rq_13(df : pd.DataFrame, runtime : str, column : str) -> pd.DataFrame:\n",
    "    df_c = df[(df[\"Runtime\"] == runtime) & (df_no_id[\"Language\"] == \"C\")].rename(columns={column: \"C\"}).describe()[\"C\"]\n",
    "    df_go = df[(df[\"Runtime\"] == runtime) & (df_no_id[\"Language\"] == \"Go\")].rename(columns={column: \"Go\"}).describe()[\"Go\"]\n",
    "    df_rust = df[(df[\"Runtime\"] == runtime) & (df_no_id[\"Language\"] == \"Rust\")].rename(columns={column: \"Rust\"}).describe()[\"Rust\"]\n",
    "    df_js = df[(df[\"Runtime\"] == runtime) & (df_no_id[\"Language\"] == \"JavaScript\")].rename(columns={column: \"JavaScript\"}).describe()[\"JavaScript\"]\n",
    "\n",
    "    d = pd.concat([df_c,df_go,df_rust, df_js], axis=1)\n",
    "\n",
    "    return d"
   ],
   "metadata": {
    "collapsed": false
   }
  },
  {
   "cell_type": "code",
   "execution_count": null,
   "outputs": [],
   "source": [
    "def make_table_metric(df : pd.DataFrame, metric : str) -> pd.DataFrame:\n",
    "    df_wasmer = rq_13(df, \"Wasmer\", metric)\n",
    "    df_wasmtime = rq_13(df, \"Wasmtime\", metric)\n",
    "\n",
    "    a = df_wasmer.add_prefix(\"Wasmer_\")\n",
    "    b = df_wasmtime.add_prefix(\"Wasmtime_\")\n",
    "\n",
    "    d = pd.concat([a,b], axis=1)\n",
    "    d.columns = pd.MultiIndex.from_tuples([tuple(s.split(\"_\")) for s in d.columns])\n",
    "    return d"
   ],
   "metadata": {
    "collapsed": false
   }
  },
  {
   "cell_type": "code",
   "execution_count": null,
   "outputs": [],
   "source": [
    "keys = {\"Energy Usage\": \"J\", \"Execution Time\": \"s\", \"Memory Usage\": \"\\%\"}\n",
    "for (k,v) in keys.items():\n",
    "    parameter_name = k\n",
    "    base = f\"results_hyp3_{parameter_name.replace(' ', '-')}\"\n",
    "    file_name = f\"{base}.tex\"\n",
    "    label = f\"tab:{base}\"\n",
    "    b = make_table_metric(df_no_id, parameter_name)\n",
    "    caption = f\"Descriptive statistics for RQ3 and RQ4 - {parameter_name} ({v}).\"\n",
    "    b.to_latex(file_name, column_format=\">{\\\\bfseries}c\" + len(b.columns) * \"c\", multicolumn_format=\"c\", caption=caption, label=label, float_format=\"%.3f\", position=\"H\")\n",
    "    os.system(f\"./limit_width.sh {file_name}\")\n",
    "    os.system(f\"./add_comment.sh {file_name}\")"
   ],
   "metadata": {
    "collapsed": false
   }
  },
  {
   "cell_type": "code",
   "execution_count": null,
   "outputs": [],
   "source": [
    "# per language table\n",
    "keys = {\"Energy Usage\": \"J\", \"Execution Time\": \"s\", \"Memory Usage\": \"\\%\"}\n",
    "for (k, v) in keys.items():\n",
    "    parameter_name = k\n",
    "    base = f\"results_hyp1_{parameter_name.replace(' ', '-')}\"\n",
    "    file_name = f\"{base}.tex\"\n",
    "    label = f\"tab:{base}\"\n",
    "    b = df_no_id[[\"Language\", \"Runtime\", parameter_name]].groupby(\"Language\").describe().T.droplevel(0)\n",
    "    b = b[[\"C\", \"Go\", \"Rust\", \"JavaScript\"]]\n",
    "    caption = f\"Descriptive statistics for HYP1 - {parameter_name} ({v}).\"\n",
    "    b.to_latex(file_name ,column_format=\">{\\\\bfseries}c\" + len(b.columns) * \"c\", multicolumn_format=\"c\", caption=caption, label=label, float_format=\"%.3f\", position=\"H\")\n",
    "    os.system(f\"./add_comment.sh {file_name}\")"
   ],
   "metadata": {
    "collapsed": false
   }
  },
  {
   "cell_type": "code",
   "execution_count": null,
   "outputs": [],
   "source": [
    "# per language table\n",
    "keys = {\"Energy Usage\": \"J\", \"Execution Time\": \"s\", \"Memory Usage\": \"\\%\"}\n",
    "for (k, v) in keys.items():\n",
    "    parameter_name = k\n",
    "    base = f\"results_hyp2_{parameter_name.replace(' ', '-')}\"\n",
    "    file_name = f\"{base}.tex\"\n",
    "    label = f\"tab:{base}\"\n",
    "    b = df_no_id[[\"Language\", \"Runtime\", parameter_name]].groupby(\"Runtime\").describe().T.droplevel(0)\n",
    "    caption = f\"Descriptive statistics for HYP2 - {parameter_name} ({v}).\"\n",
    "    b.to_latex(file_name, column_format=\">{\\\\bfseries}c\" + len(b.columns) * \"c\", multicolumn_format=\"c\", caption=caption, label=label, float_format=\"%.3f\", position=\"H\")\n",
    "    os.system(f\"./add_comment.sh {file_name}\")"
   ],
   "metadata": {
    "collapsed": false
   }
  }
 ],
 "metadata": {
  "kernelspec": {
   "display_name": "Python 3",
   "language": "python",
   "name": "python3"
  },
  "language_info": {
   "codemirror_mode": {
    "name": "ipython",
    "version": 2
   },
   "file_extension": ".py",
   "mimetype": "text/x-python",
   "name": "python",
   "nbconvert_exporter": "python",
   "pygments_lexer": "ipython2",
   "version": "2.7.6"
  }
 },
 "nbformat": 4,
 "nbformat_minor": 0
}
