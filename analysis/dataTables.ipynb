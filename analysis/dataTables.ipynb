{
 "cells": [
  {
   "cell_type": "code",
   "execution_count": 1,
   "metadata": {
    "collapsed": true
   },
   "outputs": [],
   "source": [
    "import pandas as pd"
   ]
  },
  {
   "cell_type": "code",
   "execution_count": 2,
   "outputs": [
    {
     "data": {
      "text/plain": "   Language   Runtime  Energy Usage  Execution Time  Memory Usage   CPU Usage\n0         c    wasmer      1779.577          929650         1.900   99.279667\n1         c    wasmer      1779.990          929640         2.000   99.589667\n2         c    wasmer      1778.562          929620         1.900   99.200667\n3         c    wasmer      1780.095          929850         2.399   99.364667\n4         c    wasmer      1780.253          929460         1.898   99.151333\n5         c    wasmer      1779.858          929920         2.499   99.431000\n6         c    wasmer      1779.961          929820         1.900   99.752667\n7         c    wasmer      1780.518          929800         1.998   99.450333\n8         c    wasmer      1780.101          930030         2.498   99.819000\n9         c    wasmer      1778.983          929670         2.000   99.880333\n10        c  wasmtime      1703.687          890310         3.799   99.195000\n11        c  wasmtime      1701.836          889520         3.399   99.647333\n12        c  wasmtime      1701.944          889660         3.299   99.611333\n13        c  wasmtime      1703.229          889860         3.300   99.731667\n14        c  wasmtime      1701.534          889890         3.299   99.441000\n15        c  wasmtime      1703.764          889820         3.299   99.772333\n16        c  wasmtime      1702.436          890030         3.694   98.593667\n17        c  wasmtime      1701.351          889590         3.299   99.372000\n18        c  wasmtime      1702.458          890040         3.799   99.269667\n19        c  wasmtime      1701.522          889410         3.299   99.700333\n20       go    wasmer      3403.455         1778210         4.582   99.900667\n21       go    wasmer      3404.379         1778270         4.584   98.286000\n22       go    wasmer      3415.520         1787340        10.117  109.689667\n23       go    wasmer      3405.149         1778980         4.584   98.249333\n24       go    wasmer      3406.437         1778940         4.581   98.733333\n25       go    wasmer      3414.869         1787270        10.199  106.475333\n26       go    wasmer      3405.897         1778890         4.582  100.000667\n27       go    wasmer      3404.788         1778190         4.582   98.934000\n28       go    wasmer      3402.592         1778250         4.583   99.574667\n29       go    wasmer      3406.391         1778870         4.596   99.489667\n30       go  wasmtime      3744.696         1958670         9.390   98.423667\n31       go  wasmtime      3738.187         1955950        10.251  106.274333\n32       go  wasmtime      3729.626         1947990         5.079   98.428667\n33       go  wasmtime      3730.475         1948210         5.079   98.574000\n34       go  wasmtime      3729.176         1947230         5.080   98.706667\n35       go  wasmtime      3731.336         1949150         5.079   98.765667\n36       go  wasmtime      3727.698         1947080         5.079   99.021000\n37       go  wasmtime      3742.572         1957000        10.017  106.445333\n38       go  wasmtime      3727.629         1947150         5.096   98.907333\n39       go  wasmtime      3728.744         1948830         5.095   99.329333\n40     rust    wasmer      1100.942          577150         3.583  100.178667\n41     rust    wasmer      1100.473          576210         2.799   99.737667\n42     rust    wasmer      1100.580          577480         3.893  100.083667\n43     rust    wasmer      1100.291          576280         2.799   99.431333\n44     rust    wasmer      1100.279          576400         2.799   99.473333\n45     rust    wasmer      1102.698          577460         3.697  100.166000\n46     rust    wasmer      1100.412          576180         2.699   97.823333\n47     rust    wasmer      1100.512          576220         2.699   99.860000\n48     rust    wasmer      1100.470          576320         2.699   99.273667\n49     rust    wasmer      1100.646          576300         2.799   99.345000\n50     rust  wasmtime      1115.757          583990         2.900   99.089000\n51     rust  wasmtime      1115.238          583870         2.900   98.860000\n52     rust  wasmtime      1117.436          584580         2.898   99.370000\n53     rust  wasmtime      1119.014          586990         4.884  100.733000\n54     rust  wasmtime      1115.839          583770         2.898   99.138000\n55     rust  wasmtime      1117.405          584490         2.996   99.205667\n56     rust  wasmtime      1115.738          583830         2.996   98.983333\n57     rust  wasmtime      1115.290          583870         2.900   99.194000\n58     rust  wasmtime      1115.783          583840         2.900   97.427333\n59     rust  wasmtime      1117.619          584430         2.898   99.277667",
      "text/html": "<div>\n<style scoped>\n    .dataframe tbody tr th:only-of-type {\n        vertical-align: middle;\n    }\n\n    .dataframe tbody tr th {\n        vertical-align: top;\n    }\n\n    .dataframe thead th {\n        text-align: right;\n    }\n</style>\n<table border=\"1\" class=\"dataframe\">\n  <thead>\n    <tr style=\"text-align: right;\">\n      <th></th>\n      <th>Language</th>\n      <th>Runtime</th>\n      <th>Energy Usage</th>\n      <th>Execution Time</th>\n      <th>Memory Usage</th>\n      <th>CPU Usage</th>\n    </tr>\n  </thead>\n  <tbody>\n    <tr>\n      <th>0</th>\n      <td>c</td>\n      <td>wasmer</td>\n      <td>1779.577</td>\n      <td>929650</td>\n      <td>1.900</td>\n      <td>99.279667</td>\n    </tr>\n    <tr>\n      <th>1</th>\n      <td>c</td>\n      <td>wasmer</td>\n      <td>1779.990</td>\n      <td>929640</td>\n      <td>2.000</td>\n      <td>99.589667</td>\n    </tr>\n    <tr>\n      <th>2</th>\n      <td>c</td>\n      <td>wasmer</td>\n      <td>1778.562</td>\n      <td>929620</td>\n      <td>1.900</td>\n      <td>99.200667</td>\n    </tr>\n    <tr>\n      <th>3</th>\n      <td>c</td>\n      <td>wasmer</td>\n      <td>1780.095</td>\n      <td>929850</td>\n      <td>2.399</td>\n      <td>99.364667</td>\n    </tr>\n    <tr>\n      <th>4</th>\n      <td>c</td>\n      <td>wasmer</td>\n      <td>1780.253</td>\n      <td>929460</td>\n      <td>1.898</td>\n      <td>99.151333</td>\n    </tr>\n    <tr>\n      <th>5</th>\n      <td>c</td>\n      <td>wasmer</td>\n      <td>1779.858</td>\n      <td>929920</td>\n      <td>2.499</td>\n      <td>99.431000</td>\n    </tr>\n    <tr>\n      <th>6</th>\n      <td>c</td>\n      <td>wasmer</td>\n      <td>1779.961</td>\n      <td>929820</td>\n      <td>1.900</td>\n      <td>99.752667</td>\n    </tr>\n    <tr>\n      <th>7</th>\n      <td>c</td>\n      <td>wasmer</td>\n      <td>1780.518</td>\n      <td>929800</td>\n      <td>1.998</td>\n      <td>99.450333</td>\n    </tr>\n    <tr>\n      <th>8</th>\n      <td>c</td>\n      <td>wasmer</td>\n      <td>1780.101</td>\n      <td>930030</td>\n      <td>2.498</td>\n      <td>99.819000</td>\n    </tr>\n    <tr>\n      <th>9</th>\n      <td>c</td>\n      <td>wasmer</td>\n      <td>1778.983</td>\n      <td>929670</td>\n      <td>2.000</td>\n      <td>99.880333</td>\n    </tr>\n    <tr>\n      <th>10</th>\n      <td>c</td>\n      <td>wasmtime</td>\n      <td>1703.687</td>\n      <td>890310</td>\n      <td>3.799</td>\n      <td>99.195000</td>\n    </tr>\n    <tr>\n      <th>11</th>\n      <td>c</td>\n      <td>wasmtime</td>\n      <td>1701.836</td>\n      <td>889520</td>\n      <td>3.399</td>\n      <td>99.647333</td>\n    </tr>\n    <tr>\n      <th>12</th>\n      <td>c</td>\n      <td>wasmtime</td>\n      <td>1701.944</td>\n      <td>889660</td>\n      <td>3.299</td>\n      <td>99.611333</td>\n    </tr>\n    <tr>\n      <th>13</th>\n      <td>c</td>\n      <td>wasmtime</td>\n      <td>1703.229</td>\n      <td>889860</td>\n      <td>3.300</td>\n      <td>99.731667</td>\n    </tr>\n    <tr>\n      <th>14</th>\n      <td>c</td>\n      <td>wasmtime</td>\n      <td>1701.534</td>\n      <td>889890</td>\n      <td>3.299</td>\n      <td>99.441000</td>\n    </tr>\n    <tr>\n      <th>15</th>\n      <td>c</td>\n      <td>wasmtime</td>\n      <td>1703.764</td>\n      <td>889820</td>\n      <td>3.299</td>\n      <td>99.772333</td>\n    </tr>\n    <tr>\n      <th>16</th>\n      <td>c</td>\n      <td>wasmtime</td>\n      <td>1702.436</td>\n      <td>890030</td>\n      <td>3.694</td>\n      <td>98.593667</td>\n    </tr>\n    <tr>\n      <th>17</th>\n      <td>c</td>\n      <td>wasmtime</td>\n      <td>1701.351</td>\n      <td>889590</td>\n      <td>3.299</td>\n      <td>99.372000</td>\n    </tr>\n    <tr>\n      <th>18</th>\n      <td>c</td>\n      <td>wasmtime</td>\n      <td>1702.458</td>\n      <td>890040</td>\n      <td>3.799</td>\n      <td>99.269667</td>\n    </tr>\n    <tr>\n      <th>19</th>\n      <td>c</td>\n      <td>wasmtime</td>\n      <td>1701.522</td>\n      <td>889410</td>\n      <td>3.299</td>\n      <td>99.700333</td>\n    </tr>\n    <tr>\n      <th>20</th>\n      <td>go</td>\n      <td>wasmer</td>\n      <td>3403.455</td>\n      <td>1778210</td>\n      <td>4.582</td>\n      <td>99.900667</td>\n    </tr>\n    <tr>\n      <th>21</th>\n      <td>go</td>\n      <td>wasmer</td>\n      <td>3404.379</td>\n      <td>1778270</td>\n      <td>4.584</td>\n      <td>98.286000</td>\n    </tr>\n    <tr>\n      <th>22</th>\n      <td>go</td>\n      <td>wasmer</td>\n      <td>3415.520</td>\n      <td>1787340</td>\n      <td>10.117</td>\n      <td>109.689667</td>\n    </tr>\n    <tr>\n      <th>23</th>\n      <td>go</td>\n      <td>wasmer</td>\n      <td>3405.149</td>\n      <td>1778980</td>\n      <td>4.584</td>\n      <td>98.249333</td>\n    </tr>\n    <tr>\n      <th>24</th>\n      <td>go</td>\n      <td>wasmer</td>\n      <td>3406.437</td>\n      <td>1778940</td>\n      <td>4.581</td>\n      <td>98.733333</td>\n    </tr>\n    <tr>\n      <th>25</th>\n      <td>go</td>\n      <td>wasmer</td>\n      <td>3414.869</td>\n      <td>1787270</td>\n      <td>10.199</td>\n      <td>106.475333</td>\n    </tr>\n    <tr>\n      <th>26</th>\n      <td>go</td>\n      <td>wasmer</td>\n      <td>3405.897</td>\n      <td>1778890</td>\n      <td>4.582</td>\n      <td>100.000667</td>\n    </tr>\n    <tr>\n      <th>27</th>\n      <td>go</td>\n      <td>wasmer</td>\n      <td>3404.788</td>\n      <td>1778190</td>\n      <td>4.582</td>\n      <td>98.934000</td>\n    </tr>\n    <tr>\n      <th>28</th>\n      <td>go</td>\n      <td>wasmer</td>\n      <td>3402.592</td>\n      <td>1778250</td>\n      <td>4.583</td>\n      <td>99.574667</td>\n    </tr>\n    <tr>\n      <th>29</th>\n      <td>go</td>\n      <td>wasmer</td>\n      <td>3406.391</td>\n      <td>1778870</td>\n      <td>4.596</td>\n      <td>99.489667</td>\n    </tr>\n    <tr>\n      <th>30</th>\n      <td>go</td>\n      <td>wasmtime</td>\n      <td>3744.696</td>\n      <td>1958670</td>\n      <td>9.390</td>\n      <td>98.423667</td>\n    </tr>\n    <tr>\n      <th>31</th>\n      <td>go</td>\n      <td>wasmtime</td>\n      <td>3738.187</td>\n      <td>1955950</td>\n      <td>10.251</td>\n      <td>106.274333</td>\n    </tr>\n    <tr>\n      <th>32</th>\n      <td>go</td>\n      <td>wasmtime</td>\n      <td>3729.626</td>\n      <td>1947990</td>\n      <td>5.079</td>\n      <td>98.428667</td>\n    </tr>\n    <tr>\n      <th>33</th>\n      <td>go</td>\n      <td>wasmtime</td>\n      <td>3730.475</td>\n      <td>1948210</td>\n      <td>5.079</td>\n      <td>98.574000</td>\n    </tr>\n    <tr>\n      <th>34</th>\n      <td>go</td>\n      <td>wasmtime</td>\n      <td>3729.176</td>\n      <td>1947230</td>\n      <td>5.080</td>\n      <td>98.706667</td>\n    </tr>\n    <tr>\n      <th>35</th>\n      <td>go</td>\n      <td>wasmtime</td>\n      <td>3731.336</td>\n      <td>1949150</td>\n      <td>5.079</td>\n      <td>98.765667</td>\n    </tr>\n    <tr>\n      <th>36</th>\n      <td>go</td>\n      <td>wasmtime</td>\n      <td>3727.698</td>\n      <td>1947080</td>\n      <td>5.079</td>\n      <td>99.021000</td>\n    </tr>\n    <tr>\n      <th>37</th>\n      <td>go</td>\n      <td>wasmtime</td>\n      <td>3742.572</td>\n      <td>1957000</td>\n      <td>10.017</td>\n      <td>106.445333</td>\n    </tr>\n    <tr>\n      <th>38</th>\n      <td>go</td>\n      <td>wasmtime</td>\n      <td>3727.629</td>\n      <td>1947150</td>\n      <td>5.096</td>\n      <td>98.907333</td>\n    </tr>\n    <tr>\n      <th>39</th>\n      <td>go</td>\n      <td>wasmtime</td>\n      <td>3728.744</td>\n      <td>1948830</td>\n      <td>5.095</td>\n      <td>99.329333</td>\n    </tr>\n    <tr>\n      <th>40</th>\n      <td>rust</td>\n      <td>wasmer</td>\n      <td>1100.942</td>\n      <td>577150</td>\n      <td>3.583</td>\n      <td>100.178667</td>\n    </tr>\n    <tr>\n      <th>41</th>\n      <td>rust</td>\n      <td>wasmer</td>\n      <td>1100.473</td>\n      <td>576210</td>\n      <td>2.799</td>\n      <td>99.737667</td>\n    </tr>\n    <tr>\n      <th>42</th>\n      <td>rust</td>\n      <td>wasmer</td>\n      <td>1100.580</td>\n      <td>577480</td>\n      <td>3.893</td>\n      <td>100.083667</td>\n    </tr>\n    <tr>\n      <th>43</th>\n      <td>rust</td>\n      <td>wasmer</td>\n      <td>1100.291</td>\n      <td>576280</td>\n      <td>2.799</td>\n      <td>99.431333</td>\n    </tr>\n    <tr>\n      <th>44</th>\n      <td>rust</td>\n      <td>wasmer</td>\n      <td>1100.279</td>\n      <td>576400</td>\n      <td>2.799</td>\n      <td>99.473333</td>\n    </tr>\n    <tr>\n      <th>45</th>\n      <td>rust</td>\n      <td>wasmer</td>\n      <td>1102.698</td>\n      <td>577460</td>\n      <td>3.697</td>\n      <td>100.166000</td>\n    </tr>\n    <tr>\n      <th>46</th>\n      <td>rust</td>\n      <td>wasmer</td>\n      <td>1100.412</td>\n      <td>576180</td>\n      <td>2.699</td>\n      <td>97.823333</td>\n    </tr>\n    <tr>\n      <th>47</th>\n      <td>rust</td>\n      <td>wasmer</td>\n      <td>1100.512</td>\n      <td>576220</td>\n      <td>2.699</td>\n      <td>99.860000</td>\n    </tr>\n    <tr>\n      <th>48</th>\n      <td>rust</td>\n      <td>wasmer</td>\n      <td>1100.470</td>\n      <td>576320</td>\n      <td>2.699</td>\n      <td>99.273667</td>\n    </tr>\n    <tr>\n      <th>49</th>\n      <td>rust</td>\n      <td>wasmer</td>\n      <td>1100.646</td>\n      <td>576300</td>\n      <td>2.799</td>\n      <td>99.345000</td>\n    </tr>\n    <tr>\n      <th>50</th>\n      <td>rust</td>\n      <td>wasmtime</td>\n      <td>1115.757</td>\n      <td>583990</td>\n      <td>2.900</td>\n      <td>99.089000</td>\n    </tr>\n    <tr>\n      <th>51</th>\n      <td>rust</td>\n      <td>wasmtime</td>\n      <td>1115.238</td>\n      <td>583870</td>\n      <td>2.900</td>\n      <td>98.860000</td>\n    </tr>\n    <tr>\n      <th>52</th>\n      <td>rust</td>\n      <td>wasmtime</td>\n      <td>1117.436</td>\n      <td>584580</td>\n      <td>2.898</td>\n      <td>99.370000</td>\n    </tr>\n    <tr>\n      <th>53</th>\n      <td>rust</td>\n      <td>wasmtime</td>\n      <td>1119.014</td>\n      <td>586990</td>\n      <td>4.884</td>\n      <td>100.733000</td>\n    </tr>\n    <tr>\n      <th>54</th>\n      <td>rust</td>\n      <td>wasmtime</td>\n      <td>1115.839</td>\n      <td>583770</td>\n      <td>2.898</td>\n      <td>99.138000</td>\n    </tr>\n    <tr>\n      <th>55</th>\n      <td>rust</td>\n      <td>wasmtime</td>\n      <td>1117.405</td>\n      <td>584490</td>\n      <td>2.996</td>\n      <td>99.205667</td>\n    </tr>\n    <tr>\n      <th>56</th>\n      <td>rust</td>\n      <td>wasmtime</td>\n      <td>1115.738</td>\n      <td>583830</td>\n      <td>2.996</td>\n      <td>98.983333</td>\n    </tr>\n    <tr>\n      <th>57</th>\n      <td>rust</td>\n      <td>wasmtime</td>\n      <td>1115.290</td>\n      <td>583870</td>\n      <td>2.900</td>\n      <td>99.194000</td>\n    </tr>\n    <tr>\n      <th>58</th>\n      <td>rust</td>\n      <td>wasmtime</td>\n      <td>1115.783</td>\n      <td>583840</td>\n      <td>2.900</td>\n      <td>97.427333</td>\n    </tr>\n    <tr>\n      <th>59</th>\n      <td>rust</td>\n      <td>wasmtime</td>\n      <td>1117.619</td>\n      <td>584430</td>\n      <td>2.898</td>\n      <td>99.277667</td>\n    </tr>\n  </tbody>\n</table>\n</div>"
     },
     "execution_count": 2,
     "metadata": {},
     "output_type": "execute_result"
    }
   ],
   "source": [
    "df = pd.read_csv(\"combined.csv\")\n",
    "df.rename(columns={\"language\": \"Language\", \"runtime\": \"Runtime\", \"energy_usage (sum)\": \"Energy Usage\", \"execution_time (sum)\": \"Execution Time\", \"memory_usage (sum)\": \"Memory Usage\", \"cpu_usage (avg)\": \"CPU Usage\"}, inplace=True)\n",
    "df_no_id = df.drop(labels=\"id\", axis=1)\n",
    "df_no_id"
   ],
   "metadata": {
    "collapsed": false
   }
  },
  {
   "cell_type": "code",
   "execution_count": 3,
   "outputs": [],
   "source": [
    "# RQ 1: only runtime wasmer and then 3 languages\n",
    "def make_table(df : pd.DataFrame, runtime : str) -> pd.DataFrame:\n",
    "    df_c = df[(df[\"Runtime\"] == runtime) & (df_no_id[\"Language\"] == \"c\")].describe()\n",
    "    df_go = df[(df[\"Runtime\"] == runtime) & (df_no_id[\"Language\"] == \"go\")].describe()\n",
    "    df_rust = df[(df[\"Runtime\"] == runtime) & (df_no_id[\"Language\"] == \"rust\")].describe()\n",
    "\n",
    "    a = df_c.add_prefix(\"C_\")\n",
    "    b = df_rust.add_prefix(\"Rust_\")\n",
    "    c = df_go.add_prefix(\"Go_\")\n",
    "    d = pd.concat([a,b,c], axis=1)\n",
    "    d.columns = pd.MultiIndex.from_tuples([tuple(s.split(\"_\")) for s in d.columns])\n",
    "\n",
    "    return d"
   ],
   "metadata": {
    "collapsed": false
   }
  },
  {
   "cell_type": "code",
   "execution_count": 4,
   "outputs": [],
   "source": [
    "def rq_13(df : pd.DataFrame, runtime : str, column : str) -> pd.DataFrame:\n",
    "    df_c = df[(df[\"Runtime\"] == runtime) & (df_no_id[\"Language\"] == \"c\")].rename(columns={column: \"C\"}).describe()[\"C\"]\n",
    "    df_go = df[(df[\"Runtime\"] == runtime) & (df_no_id[\"Language\"] == \"go\")].rename(columns={column: \"Go\"}).describe()[\"Go\"]\n",
    "    df_rust = df[(df[\"Runtime\"] == runtime) & (df_no_id[\"Language\"] == \"rust\")].rename(columns={column: \"Rust\"}).describe()[\"Rust\"]\n",
    "\n",
    "    d = pd.concat([df_c,df_go,df_rust], axis=1)\n",
    "\n",
    "    return d"
   ],
   "metadata": {
    "collapsed": false
   }
  },
  {
   "cell_type": "code",
   "execution_count": 5,
   "outputs": [],
   "source": [
    "def make_table_metric(df : pd.DataFrame, metric : str) -> pd.DataFrame:\n",
    "    df_wasmer = rq_13(df, \"wasmer\", metric)\n",
    "    df_wasmtime = rq_13(df, \"wasmtime\", metric)\n",
    "\n",
    "    a = df_wasmer.add_prefix(\"Wasmer_\")\n",
    "    b = df_wasmtime.add_prefix(\"Wasmtime_\")\n",
    "\n",
    "    d = pd.concat([a,b], axis=1)\n",
    "    d.columns = pd.MultiIndex.from_tuples([tuple(s.split(\"_\")) for s in d.columns])\n",
    "    return d"
   ],
   "metadata": {
    "collapsed": false
   }
  },
  {
   "cell_type": "code",
   "execution_count": 6,
   "outputs": [
    {
     "name": "stderr",
     "output_type": "stream",
     "text": [
      "/tmp/ipykernel_133134/3038136253.py:6: FutureWarning: In future versions `DataFrame.to_latex` is expected to utilise the base implementation of `Styler.to_latex` for formatting and rendering. The arguments signature may therefore change. It is recommended instead to use `DataFrame.style.to_latex` which also contains additional functionality.\n",
      "  b.to_latex(\"rq12.tex\",column_format=\">{\\\\bfseries}c\" + len(b.columns) * \"c\", multicolumn_format=\"c\", caption=caption, label=label)\n"
     ]
    }
   ],
   "source": [
    "# make table RQ1 + 2\n",
    "parameter_name = \"Energy Usage\"\n",
    "label = f\"tab:rq12_energyUsage\"\n",
    "b = rq_13(df_no_id, \"wasmer\", \"Energy Usage\")\n",
    "caption = f\"Descriptive statistics for RQ1 and RQ2 - {parameter_name}.\"\n",
    "b.to_latex(\"rq12.tex\",column_format=\">{\\\\bfseries}c\" + len(b.columns) * \"c\", multicolumn_format=\"c\", caption=caption, label=label)"
   ],
   "metadata": {
    "collapsed": false
   }
  },
  {
   "cell_type": "code",
   "execution_count": 7,
   "outputs": [
    {
     "name": "stderr",
     "output_type": "stream",
     "text": [
      "/tmp/ipykernel_133134/3618195737.py:7: FutureWarning: In future versions `DataFrame.to_latex` is expected to utilise the base implementation of `Styler.to_latex` for formatting and rendering. The arguments signature may therefore change. It is recommended instead to use `DataFrame.style.to_latex` which also contains additional functionality.\n",
      "  b.to_latex(f\"rq_{parameter_name}.tex\",column_format=\">{\\\\bfseries}c\" + len(b.columns) * \"c\", multicolumn_format=\"c\", caption=caption, label=label)\n",
      "/tmp/ipykernel_133134/3618195737.py:7: FutureWarning: In future versions `DataFrame.to_latex` is expected to utilise the base implementation of `Styler.to_latex` for formatting and rendering. The arguments signature may therefore change. It is recommended instead to use `DataFrame.style.to_latex` which also contains additional functionality.\n",
      "  b.to_latex(f\"rq_{parameter_name}.tex\",column_format=\">{\\\\bfseries}c\" + len(b.columns) * \"c\", multicolumn_format=\"c\", caption=caption, label=label)\n",
      "/tmp/ipykernel_133134/3618195737.py:7: FutureWarning: In future versions `DataFrame.to_latex` is expected to utilise the base implementation of `Styler.to_latex` for formatting and rendering. The arguments signature may therefore change. It is recommended instead to use `DataFrame.style.to_latex` which also contains additional functionality.\n",
      "  b.to_latex(f\"rq_{parameter_name}.tex\",column_format=\">{\\\\bfseries}c\" + len(b.columns) * \"c\", multicolumn_format=\"c\", caption=caption, label=label)\n",
      "/tmp/ipykernel_133134/3618195737.py:7: FutureWarning: In future versions `DataFrame.to_latex` is expected to utilise the base implementation of `Styler.to_latex` for formatting and rendering. The arguments signature may therefore change. It is recommended instead to use `DataFrame.style.to_latex` which also contains additional functionality.\n",
      "  b.to_latex(f\"rq_{parameter_name}.tex\",column_format=\">{\\\\bfseries}c\" + len(b.columns) * \"c\", multicolumn_format=\"c\", caption=caption, label=label)\n"
     ]
    }
   ],
   "source": [
    "keys = [\"Energy Usage\", \"Execution Time\", \"Memory Usage\", \"CPU Usage\"]\n",
    "for k in keys:\n",
    "    parameter_name = k\n",
    "    label = f\"tab:rq_{parameter_name}\"\n",
    "    b = make_table_metric(df_no_id, parameter_name)\n",
    "    caption = f\"Descriptive statistics for RQ3 and RQ4 - {parameter_name}.\"\n",
    "    b.to_latex(f\"rq_{parameter_name}.tex\",column_format=\">{\\\\bfseries}c\" + len(b.columns) * \"c\", multicolumn_format=\"c\", caption=caption, label=label)"
   ],
   "metadata": {
    "collapsed": false
   }
  },
  {
   "cell_type": "code",
   "execution_count": 8,
   "outputs": [
    {
     "data": {
      "text/plain": "            Wasmer                               Wasmtime               \\\n                 C           Go         Rust            C           Go   \ncount    10.000000    10.000000    10.000000    10.000000    10.000000   \nmean   1779.789800  3406.947700  1100.730300  1702.376100  3733.013900   \nstd       0.597454     4.516328     0.716933     0.903716     6.373089   \nmin    1778.562000  3402.592000  1100.279000  1701.351000  3727.629000   \n25%    1779.647250  3404.481250  1100.426500  1701.609500  3728.852000   \n50%    1779.975500  3405.523000  1100.492500  1702.190000  3730.050500   \n75%    1780.099500  3406.425500  1100.629500  1703.036250  3736.474250   \nmax    1780.518000  3415.520000  1102.698000  1703.764000  3744.696000   \n\n                    \n              Rust  \ncount    10.000000  \nmean   1116.511900  \nstd       1.265197  \nmin    1115.238000  \n25%    1115.742750  \n50%    1115.811000  \n75%    1117.428250  \nmax    1119.014000  ",
      "text/html": "<div>\n<style scoped>\n    .dataframe tbody tr th:only-of-type {\n        vertical-align: middle;\n    }\n\n    .dataframe tbody tr th {\n        vertical-align: top;\n    }\n\n    .dataframe thead tr th {\n        text-align: left;\n    }\n</style>\n<table border=\"1\" class=\"dataframe\">\n  <thead>\n    <tr>\n      <th></th>\n      <th colspan=\"3\" halign=\"left\">Wasmer</th>\n      <th colspan=\"3\" halign=\"left\">Wasmtime</th>\n    </tr>\n    <tr>\n      <th></th>\n      <th>C</th>\n      <th>Go</th>\n      <th>Rust</th>\n      <th>C</th>\n      <th>Go</th>\n      <th>Rust</th>\n    </tr>\n  </thead>\n  <tbody>\n    <tr>\n      <th>count</th>\n      <td>10.000000</td>\n      <td>10.000000</td>\n      <td>10.000000</td>\n      <td>10.000000</td>\n      <td>10.000000</td>\n      <td>10.000000</td>\n    </tr>\n    <tr>\n      <th>mean</th>\n      <td>1779.789800</td>\n      <td>3406.947700</td>\n      <td>1100.730300</td>\n      <td>1702.376100</td>\n      <td>3733.013900</td>\n      <td>1116.511900</td>\n    </tr>\n    <tr>\n      <th>std</th>\n      <td>0.597454</td>\n      <td>4.516328</td>\n      <td>0.716933</td>\n      <td>0.903716</td>\n      <td>6.373089</td>\n      <td>1.265197</td>\n    </tr>\n    <tr>\n      <th>min</th>\n      <td>1778.562000</td>\n      <td>3402.592000</td>\n      <td>1100.279000</td>\n      <td>1701.351000</td>\n      <td>3727.629000</td>\n      <td>1115.238000</td>\n    </tr>\n    <tr>\n      <th>25%</th>\n      <td>1779.647250</td>\n      <td>3404.481250</td>\n      <td>1100.426500</td>\n      <td>1701.609500</td>\n      <td>3728.852000</td>\n      <td>1115.742750</td>\n    </tr>\n    <tr>\n      <th>50%</th>\n      <td>1779.975500</td>\n      <td>3405.523000</td>\n      <td>1100.492500</td>\n      <td>1702.190000</td>\n      <td>3730.050500</td>\n      <td>1115.811000</td>\n    </tr>\n    <tr>\n      <th>75%</th>\n      <td>1780.099500</td>\n      <td>3406.425500</td>\n      <td>1100.629500</td>\n      <td>1703.036250</td>\n      <td>3736.474250</td>\n      <td>1117.428250</td>\n    </tr>\n    <tr>\n      <th>max</th>\n      <td>1780.518000</td>\n      <td>3415.520000</td>\n      <td>1102.698000</td>\n      <td>1703.764000</td>\n      <td>3744.696000</td>\n      <td>1119.014000</td>\n    </tr>\n  </tbody>\n</table>\n</div>"
     },
     "execution_count": 8,
     "metadata": {},
     "output_type": "execute_result"
    }
   ],
   "source": [
    "make_table_metric(df_no_id, \"Energy Usage\")"
   ],
   "metadata": {
    "collapsed": false
   }
  }
 ],
 "metadata": {
  "kernelspec": {
   "display_name": "Python 3",
   "language": "python",
   "name": "python3"
  },
  "language_info": {
   "codemirror_mode": {
    "name": "ipython",
    "version": 2
   },
   "file_extension": ".py",
   "mimetype": "text/x-python",
   "name": "python",
   "nbconvert_exporter": "python",
   "pygments_lexer": "ipython2",
   "version": "2.7.6"
  }
 },
 "nbformat": 4,
 "nbformat_minor": 0
}
